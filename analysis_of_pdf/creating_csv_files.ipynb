{
 "cells": [
  {
   "cell_type": "code",
   "execution_count": 1,
   "metadata": {},
   "outputs": [],
   "source": [
    "import csv  # for creating csv files\n",
    "import os"
   ]
  },
  {
   "cell_type": "code",
   "execution_count": 2,
   "metadata": {},
   "outputs": [
    {
     "name": "stdout",
     "output_type": "stream",
     "text": [
      "['Architecture.txt', 'Art.txt', 'Astronomy.txt', 'Biography&Autobiography.txt', 'Business & Ecenomics.txt', 'Children.txt', 'Computers.txt', 'ConductOfLife.txt', 'Cooking.txt', 'Criminals.txt', 'Death.txt', 'Design.txt', 'Detective and mystery stories.txt', 'Drama.txt', 'Education.txt', 'Fairy Tails.txt', 'Family & Relationships.txt', 'Fiction.txt', 'Health&Fitness.txt', 'History.txt', 'Humor.txt', 'JuvenileFiction.txt', 'Law.txt', 'Man-woman relationships.txt', 'Mathematics.txt', 'Medical.txt', 'Music.txt', 'Nature.txt', 'Pets.txt', 'Philosophy.txt', 'Photography.txt', 'Poetry.txt', 'PoliticalScience.txt', 'Psychology.txt', 'Religion.txt', 'Romance.txt', 'Science Fiction.txt', 'Science.txt', 'Self-Help.txt', 'SocialScience.txt', 'Techonology & Engineering.txt', 'Travel.txt', 'WorldWar1.txt']\n"
     ]
    }
   ],
   "source": [
    "pdf_csv_file_path = 'pdf_csv_files/' # csv_files_path\n",
    "category_analysis_path = '../outputs/category_analysis_txt/'  # path that keeps category analize files\n",
    "\n",
    "fields = ['word', 'count'] # fields\n",
    "rows = [] # rows\n",
    "rows.append(fields)\n",
    "\n",
    "all_txt_files = os.listdir(category_analysis_path) # puts all categories into all_txt_files list\n",
    "print(all_txt_files)\n"
   ]
  },
  {
   "cell_type": "code",
   "execution_count": 3,
   "metadata": {},
   "outputs": [],
   "source": [
    "# creating csv file for every category\n",
    "\n",
    "for file in all_txt_files:\n",
    "    category_name = file.replace('txt', '')  # getting category name\n",
    "    with open(f'{category_analysis_path}{file}', encoding='utf8') as f:\n",
    "        lines = f.readlines() # reads all lines inside of the txt file\n",
    "\n",
    "        # reading lines and splitting to word and count\n",
    "        for line in lines:\n",
    "            word = line.split('-')[0]\n",
    "            count = line.split('-')[1].replace('\\n', '')\n",
    "            rows.append([word, count])\n",
    "\n",
    "        \n",
    "        filename = f'{pdf_csv_file_path}{category_name}csv' # file name of csv file\n",
    "        # creating csv file\n",
    "        with open(filename, 'w', encoding='utf-8', newline='') as file: # opens file and writes rows list into it\n",
    "            writer = csv.writer(file)\n",
    "            writer.writerows(rows)\n",
    "\n",
    "    rows = [fields] # clearing rows value\n",
    "\n",
    "\n"
   ]
  }
 ],
 "metadata": {
  "kernelspec": {
   "display_name": "base",
   "language": "python",
   "name": "python3"
  },
  "language_info": {
   "codemirror_mode": {
    "name": "ipython",
    "version": 3
   },
   "file_extension": ".py",
   "mimetype": "text/x-python",
   "name": "python",
   "nbconvert_exporter": "python",
   "pygments_lexer": "ipython3",
   "version": "3.9.13 (main, Aug 25 2022, 23:51:50) [MSC v.1916 64 bit (AMD64)]"
  },
  "orig_nbformat": 4,
  "vscode": {
   "interpreter": {
    "hash": "754ee5172a21288a1f4bd606ae0e16b44457b59336871fadbc785f7604887652"
   }
  }
 },
 "nbformat": 4,
 "nbformat_minor": 2
}
